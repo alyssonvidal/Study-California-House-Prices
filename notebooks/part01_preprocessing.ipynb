{
 "cells": [
  {
   "cell_type": "markdown",
   "id": "d4fa1f12",
   "metadata": {},
   "source": [
    "# <div style=\"color:white;display:fill;border-radius:5px;background-color:#F28482;letter-spacing:0.5px;overflow:hidden\"><p style=\"padding:20px;color:white;overflow:hidden;text-align: center;margin:0;font-size:100%\">Data Preprocessing</p></div> "
   ]
  },
  {
   "cell_type": "code",
   "execution_count": 1,
   "id": "49e978ad",
   "metadata": {},
   "outputs": [],
   "source": [
    "import numpy as np\n",
    "import pandas as pd\n",
    "import datetime\n",
    "import os\n",
    "import warnings\n",
    "warnings.simplefilter(action='ignore', category=FutureWarning)"
   ]
  },
  {
   "cell_type": "code",
   "execution_count": null,
   "id": "db83f330",
   "metadata": {},
   "outputs": [],
   "source": [
    "pd.set_option('display.max_columns', None)\n",
    "pd.set_option('display.max_rows', 50)\n",
    "pd.set_option('display.max_colwidth', None)"
   ]
  },
  {
   "cell_type": "markdown",
   "id": "ce9448a9",
   "metadata": {},
   "source": [
    "# <div style=\"color:white;display:fill;border-radius:5px;background-color:#F28482;letter-spacing:0.5px;overflow:hidden\"><p style=\"padding:20px;color:white;overflow:hidden;text-align: center;margin:0;font-size:100%\">Data Extracting</p></div> "
   ]
  },
  {
   "cell_type": "code",
   "execution_count": 2,
   "id": "9d68382a",
   "metadata": {},
   "outputs": [],
   "source": [
    "current_dir = os.getcwd()\n",
    "\n",
    "ROOT_DIR = os.path.abspath(os.path.join(current_dir, '..'))\n",
    "DATA_RAW_PATH = os.path.join(ROOT_DIR, 'data', 'raw', 'kc_house_data.csv')"
   ]
  },
  {
   "cell_type": "code",
   "execution_count": 3,
   "id": "72122402",
   "metadata": {},
   "outputs": [],
   "source": [
    "#Reading raw data\n",
    "df_raw = pd.read_csv(DATA_RAW_PATH)"
   ]
  },
  {
   "cell_type": "code",
   "execution_count": 4,
   "id": "12d3f1a8",
   "metadata": {},
   "outputs": [],
   "source": [
    "df = df_raw.copy()"
   ]
  },
  {
   "cell_type": "code",
   "execution_count": 5,
   "id": "047e99a2",
   "metadata": {},
   "outputs": [
    {
     "name": "stdout",
     "output_type": "stream",
     "text": [
      "<class 'pandas.core.frame.DataFrame'>\n",
      "RangeIndex: 21613 entries, 0 to 21612\n",
      "Data columns (total 21 columns):\n",
      " #   Column         Non-Null Count  Dtype  \n",
      "---  ------         --------------  -----  \n",
      " 0   id             21613 non-null  int64  \n",
      " 1   date           21613 non-null  object \n",
      " 2   price          21613 non-null  float64\n",
      " 3   bedrooms       21613 non-null  int64  \n",
      " 4   bathrooms      21613 non-null  float64\n",
      " 5   sqft_living    21613 non-null  int64  \n",
      " 6   sqft_lot       21613 non-null  int64  \n",
      " 7   floors         21613 non-null  float64\n",
      " 8   waterfront     21613 non-null  int64  \n",
      " 9   view           21613 non-null  int64  \n",
      " 10  condition      21613 non-null  int64  \n",
      " 11  grade          21613 non-null  int64  \n",
      " 12  sqft_above     21611 non-null  float64\n",
      " 13  sqft_basement  21613 non-null  int64  \n",
      " 14  yr_built       21613 non-null  int64  \n",
      " 15  yr_renovated   21613 non-null  int64  \n",
      " 16  zipcode        21613 non-null  int64  \n",
      " 17  lat            21613 non-null  float64\n",
      " 18  long           21613 non-null  float64\n",
      " 19  sqft_living15  21613 non-null  int64  \n",
      " 20  sqft_lot15     21613 non-null  int64  \n",
      "dtypes: float64(6), int64(14), object(1)\n",
      "memory usage: 3.5+ MB\n"
     ]
    }
   ],
   "source": [
    "#Checking some useful info\n",
    "df.info()"
   ]
  },
  {
   "cell_type": "code",
   "execution_count": 6,
   "id": "6409cbda",
   "metadata": {},
   "outputs": [
    {
     "data": {
      "text/plain": [
       "id               0\n",
       "date             0\n",
       "price            0\n",
       "bedrooms         0\n",
       "bathrooms        0\n",
       "sqft_living      0\n",
       "sqft_lot         0\n",
       "floors           0\n",
       "waterfront       0\n",
       "view             0\n",
       "condition        0\n",
       "grade            0\n",
       "sqft_above       2\n",
       "sqft_basement    0\n",
       "yr_built         0\n",
       "yr_renovated     0\n",
       "zipcode          0\n",
       "lat              0\n",
       "long             0\n",
       "sqft_living15    0\n",
       "sqft_lot15       0\n",
       "dtype: int64"
      ]
     },
     "execution_count": 6,
     "metadata": {},
     "output_type": "execute_result"
    }
   ],
   "source": [
    "#Checking missing values\n",
    "df.isna().sum()"
   ]
  },
  {
   "cell_type": "code",
   "execution_count": 7,
   "id": "032e3c8d",
   "metadata": {},
   "outputs": [
    {
     "data": {
      "text/plain": [
       "177"
      ]
     },
     "execution_count": 7,
     "metadata": {},
     "output_type": "execute_result"
    }
   ],
   "source": [
    "#Checking duplicated \"id\" values\n",
    "df.duplicated(subset='id').sum()"
   ]
  },
  {
   "cell_type": "code",
   "execution_count": 8,
   "id": "f2d9cbf1",
   "metadata": {},
   "outputs": [],
   "source": [
    "#Removing duplicated \"id\" values and keep last record\n",
    "df=df.drop_duplicates(subset=['id'], keep='last')"
   ]
  },
  {
   "cell_type": "code",
   "execution_count": 9,
   "id": "0544f16d",
   "metadata": {},
   "outputs": [],
   "source": [
    "#Dealing with some inconsistent data\n",
    "bad_values = (df['bedrooms'] > 10)\n",
    "df = df[~bad_values]"
   ]
  },
  {
   "cell_type": "code",
   "execution_count": 10,
   "id": "31bfb7f4",
   "metadata": {},
   "outputs": [],
   "source": [
    "#Fixing data types\n",
    "df['date'] = pd.to_datetime(df['date'], format=\"%Y-%m-%d\", errors='coerce')"
   ]
  },
  {
   "cell_type": "markdown",
   "id": "ff87ed4b",
   "metadata": {},
   "source": [
    "# <div style=\"color:white;display:fill;border-radius:5px;background-color:#F28482;letter-spacing:0.5px;overflow:hidden\"><p style=\"padding:20px;color:white;overflow:hidden;text-align: center;margin:0;font-size:100%\">Feature Engineering</p></di> "
   ]
  },
  {
   "cell_type": "code",
   "execution_count": 11,
   "id": "d0a94123",
   "metadata": {},
   "outputs": [],
   "source": [
    "#Decomposing in year, month, day, weekday\n",
    "df['year'] = df['date'].dt.year\n",
    "df['month'] = df['date'].dt.month\n",
    "df['day'] = df['date'].dt.day\n",
    "df['weekday'] = df['date'].dt.weekday + 1"
   ]
  },
  {
   "cell_type": "code",
   "execution_count": 12,
   "id": "0dedeb04",
   "metadata": {},
   "outputs": [],
   "source": [
    "df[\"house_age\"] = df['year'] - df['yr_built']\n",
    "df['price_sqft'] = round(df['price'] / df['sqft_living'],2)"
   ]
  },
  {
   "cell_type": "markdown",
   "id": "25b081b1",
   "metadata": {},
   "source": [
    "# <div style=\"color:white;display:fill;border-radius:5px;background-color:#F28482;letter-spacing:0.5px;overflow:hidden\"><p style=\"padding:20px;color:white;overflow:hidden;text-align: center;margin:0;font-size:100%\">Saving Preprocessed Data</p></div> "
   ]
  },
  {
   "cell_type": "code",
   "execution_count": 13,
   "id": "3c10c61e",
   "metadata": {},
   "outputs": [],
   "source": [
    "DATA_PROCESSED_PATH = os.path.join(ROOT_DIR, 'data', 'processed', 'kc_house_data_processed.csv')"
   ]
  },
  {
   "cell_type": "code",
   "execution_count": 14,
   "id": "53349620",
   "metadata": {},
   "outputs": [],
   "source": [
    "df.to_csv(DATA_PROCESSED_PATH, index=False)"
   ]
  }
 ],
 "metadata": {
  "hide_input": false,
  "kernelspec": {
   "display_name": "Python 3 (ipykernel)",
   "language": "python",
   "name": "python3"
  },
  "language_info": {
   "codemirror_mode": {
    "name": "ipython",
    "version": 3
   },
   "file_extension": ".py",
   "mimetype": "text/x-python",
   "name": "python",
   "nbconvert_exporter": "python",
   "pygments_lexer": "ipython3",
   "version": "3.11.4"
  }
 },
 "nbformat": 4,
 "nbformat_minor": 5
}
